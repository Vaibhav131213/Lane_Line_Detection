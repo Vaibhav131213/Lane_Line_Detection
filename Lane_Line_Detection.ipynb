{
 "cells": [
  {
   "cell_type": "code",
   "execution_count": 1,
   "id": "c1798ee8",
   "metadata": {},
   "outputs": [
    {
     "ename": "error",
     "evalue": "OpenCV(4.7.0) /Users/runner/work/opencv-python/opencv-python/opencv/modules/imgproc/src/color.cpp:182: error: (-215:Assertion failed) !_src.empty() in function 'cvtColor'\n",
     "output_type": "error",
     "traceback": [
      "\u001b[0;31m---------------------------------------------------------------------------\u001b[0m",
      "\u001b[0;31merror\u001b[0m                                     Traceback (most recent call last)",
      "\u001b[0;32m/var/folders/km/x42dfycj5qvdp5k89p_q3j6c0000gp/T/ipykernel_1353/2242925828.py\u001b[0m in \u001b[0;36m<module>\u001b[0;34m\u001b[0m\n\u001b[1;32m     21\u001b[0m \u001b[0;34m\u001b[0m\u001b[0m\n\u001b[1;32m     22\u001b[0m     \u001b[0;31m# Apply color thresholding to isolate lane lines\u001b[0m\u001b[0;34m\u001b[0m\u001b[0;34m\u001b[0m\u001b[0m\n\u001b[0;32m---> 23\u001b[0;31m     \u001b[0mhsv\u001b[0m \u001b[0;34m=\u001b[0m \u001b[0mcv2\u001b[0m\u001b[0;34m.\u001b[0m\u001b[0mcvtColor\u001b[0m\u001b[0;34m(\u001b[0m\u001b[0mframe\u001b[0m\u001b[0;34m,\u001b[0m \u001b[0mcv2\u001b[0m\u001b[0;34m.\u001b[0m\u001b[0mCOLOR_BGR2HSV\u001b[0m\u001b[0;34m)\u001b[0m\u001b[0;34m\u001b[0m\u001b[0;34m\u001b[0m\u001b[0m\n\u001b[0m\u001b[1;32m     24\u001b[0m     \u001b[0mmask_yellow\u001b[0m \u001b[0;34m=\u001b[0m \u001b[0mcv2\u001b[0m\u001b[0;34m.\u001b[0m\u001b[0minRange\u001b[0m\u001b[0;34m(\u001b[0m\u001b[0mhsv\u001b[0m\u001b[0;34m,\u001b[0m \u001b[0mlower_yellow\u001b[0m\u001b[0;34m,\u001b[0m \u001b[0mupper_yellow\u001b[0m\u001b[0;34m)\u001b[0m\u001b[0;34m\u001b[0m\u001b[0;34m\u001b[0m\u001b[0m\n\u001b[1;32m     25\u001b[0m     \u001b[0mmask_white\u001b[0m \u001b[0;34m=\u001b[0m \u001b[0mcv2\u001b[0m\u001b[0;34m.\u001b[0m\u001b[0minRange\u001b[0m\u001b[0;34m(\u001b[0m\u001b[0mhsv\u001b[0m\u001b[0;34m,\u001b[0m \u001b[0mlower_white\u001b[0m\u001b[0;34m,\u001b[0m \u001b[0mupper_white\u001b[0m\u001b[0;34m)\u001b[0m\u001b[0;34m\u001b[0m\u001b[0;34m\u001b[0m\u001b[0m\n",
      "\u001b[0;31merror\u001b[0m: OpenCV(4.7.0) /Users/runner/work/opencv-python/opencv-python/opencv/modules/imgproc/src/color.cpp:182: error: (-215:Assertion failed) !_src.empty() in function 'cvtColor'\n"
     ]
    }
   ],
   "source": [
    "import cv2\n",
    "import numpy as np\n",
    "\n",
    "# Set up video capture\n",
    "cap = cv2.VideoCapture(0)\n",
    "cap.set(cv2.CAP_PROP_FRAME_WIDTH, 640)\n",
    "cap.set(cv2.CAP_PROP_FRAME_HEIGHT, 480)\n",
    "\n",
    "# Define region of interest (ROI) vertices\n",
    "roi_vertices = [(0, 480), (320, 320), (320, 320), (640, 480)]\n",
    "\n",
    "# Define color thresholds for lane detection\n",
    "lower_yellow = np.array([18, 94, 140], dtype=np.uint8)\n",
    "upper_yellow = np.array([48, 255, 255], dtype=np.uint8)\n",
    "lower_white = np.array([0, 0, 200], dtype=np.uint8)\n",
    "upper_white = np.array([255, 50, 255], dtype=np.uint8)\n",
    "\n",
    "while True:\n",
    "    # Read a frame from the video capture\n",
    "    ret, frame = cap.read()\n",
    "    \n",
    "    # Apply color thresholding to isolate lane lines\n",
    "    hsv = cv2.cvtColor(frame, cv2.COLOR_BGR2HSV)\n",
    "    mask_yellow = cv2.inRange(hsv, lower_yellow, upper_yellow)\n",
    "    mask_white = cv2.inRange(hsv, lower_white, upper_white)\n",
    "    mask = cv2.bitwise_or(mask_yellow, mask_white)\n",
    "    \n",
    "    # Apply a Gaussian blur to the masked image\n",
    "    kernel_size = 5\n",
    "    blur = cv2.GaussianBlur(mask, (kernel_size, kernel_size), 0)\n",
    "    \n",
    "    # Apply Canny edge detection to the blurred image\n",
    "    low_threshold = 50\n",
    "    high_threshold = 150\n",
    "    edges = cv2.Canny(blur, low_threshold, high_threshold)\n",
    "    \n",
    "    # Mask the edges image using the ROI vertices\n",
    "    mask_edges = np.zeros_like(edges)\n",
    "    cv2.fillPoly(mask_edges, np.array([roi_vertices], dtype=np.int32), 255)\n",
    "    masked_edges = cv2.bitwise_and(edges, mask_edges)\n",
    "    \n",
    "    # Apply Hough transform to detect lane lines\n",
    "    rho = 1\n",
    "    theta = np.pi/180\n",
    "    threshold = 15\n",
    "    min_line_length = 40\n",
    "    max_line_gap = 20\n",
    "    lines = cv2.HoughLinesP(masked_edges, rho, theta, threshold, np.array([]), \n",
    "                            min_line_length, max_line_gap)\n",
    "    \n",
    "    # Draw the detected lines on the original frame\n",
    "    line_image = np.zeros_like(frame)\n",
    "    if lines is not None:\n",
    "        for line in lines:\n",
    "            x1, y1, x2, y2 = line[0]\n",
    "            cv2.line(line_image, (x1, y1), (x2, y2), (0, 0, 255), 3)\n",
    "    \n",
    "    # Overlay the lane lines on the original frame\n",
    "    output = cv2.addWeighted(frame, 0.8, line_image, 1, 0)\n",
    "    \n",
    "    # Display the output frame\n",
    "    cv2.imshow('Lane Detection', output)\n",
    "    \n",
    "    # Exit on key press\n",
    "    if cv2.waitKey(1) == ord('q'):\n",
    "        break\n",
    "\n",
    "# Release the video capture and destroy all windows\n",
    "cap.release()\n",
    "cv2.destroyAllWindows()\n"
   ]
  },
  {
   "cell_type": "code",
   "execution_count": 7,
   "id": "399969b9",
   "metadata": {},
   "outputs": [],
   "source": []
  },
  {
   "cell_type": "code",
   "execution_count": null,
   "id": "84da4c67",
   "metadata": {},
   "outputs": [],
   "source": []
  },
  {
   "cell_type": "code",
   "execution_count": null,
   "id": "31a76833",
   "metadata": {},
   "outputs": [],
   "source": []
  }
 ],
 "metadata": {
  "kernelspec": {
   "display_name": "Python 3 (ipykernel)",
   "language": "python",
   "name": "python3"
  },
  "language_info": {
   "codemirror_mode": {
    "name": "ipython",
    "version": 3
   },
   "file_extension": ".py",
   "mimetype": "text/x-python",
   "name": "python",
   "nbconvert_exporter": "python",
   "pygments_lexer": "ipython3",
   "version": "3.9.13"
  }
 },
 "nbformat": 4,
 "nbformat_minor": 5
}
